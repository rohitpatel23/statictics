{
 "cells": [
  {
   "cell_type": "code",
   "execution_count": 22,
   "id": "def1b8d9-2cbf-4e4d-b120-60820bbc7dd2",
   "metadata": {},
   "outputs": [],
   "source": [
    "#Q1. What are the three measures of central tendency?"
   ]
  },
  {
   "cell_type": "code",
   "execution_count": 23,
   "id": "66025d2d-fa36-496c-a534-0474c9a503c0",
   "metadata": {},
   "outputs": [
    {
     "data": {
      "text/plain": [
       "'There are three measure of central tendency are following as :\\nMean \\nMeadian \\nMode '"
      ]
     },
     "execution_count": 23,
     "metadata": {},
     "output_type": "execute_result"
    }
   ],
   "source": [
    "'''There are three measure of central tendency are following as :\n",
    "Mean \n",
    "Meadian \n",
    "Mode '''"
   ]
  },
  {
   "cell_type": "code",
   "execution_count": 24,
   "id": "2681c982-f939-4461-965f-3b2d3a98f9c0",
   "metadata": {},
   "outputs": [
    {
     "data": {
      "text/plain": [
       "'Q2. What is the difference between the mean, median, and mode? How are they used to measure the\\ncentral tendency of a dataset?'"
      ]
     },
     "execution_count": 24,
     "metadata": {},
     "output_type": "execute_result"
    }
   ],
   "source": [
    "'''Q2. What is the difference between the mean, median, and mode? How are they used to measure the\n",
    "central tendency of a dataset?'''"
   ]
  },
  {
   "cell_type": "code",
   "execution_count": 25,
   "id": "00be1483-99e4-474f-8c13-53708021e4e3",
   "metadata": {},
   "outputs": [
    {
     "name": "stderr",
     "output_type": "stream",
     "text": [
      "/tmp/ipykernel_70/3016440898.py:9: FutureWarning: Unlike other reduction functions (e.g. `skew`, `kurtosis`), the default behavior of `mode` typically preserves the axis it acts along. In SciPy 1.11.0, this behavior will change: the default value of `keepdims` will become False, the `axis` over which the statistic is taken will be eliminated, and the value None will no longer be accepted. Set `keepdims` to True or False to avoid this warning.\n",
      "  stats.mode(df['total_bill'])\n"
     ]
    },
    {
     "data": {
      "text/plain": [
       "ModeResult(mode=array([13.42]), count=array([3]))"
      ]
     },
     "execution_count": 25,
     "metadata": {},
     "output_type": "execute_result"
    }
   ],
   "source": [
    "'''Mean median and mode are the three measures of central tendency. The mean is the value obtained by dividing the sum of the observations by the number of observations, and it is often called average. The median is the middlemost value in the ordered list of observations, whereas the mode is the most frequently occurring value.'''\n",
    "import numpy as np\n",
    "import seaborn as sns\n",
    "from scipy import stats\n",
    "df = sns.load_dataset(\"tips\")\n",
    "df.head()\n",
    "np.mean(df['total_bill'])\n",
    "np.median(df['total_bill'])\n",
    "stats.mode(df['total_bill'])"
   ]
  },
  {
   "cell_type": "code",
   "execution_count": 26,
   "id": "94077adb-1707-432b-a57f-b92ea568dcea",
   "metadata": {},
   "outputs": [
    {
     "data": {
      "text/plain": [
       "'Q3. Measure the three measures of central tendency for the given height data:\\n[178,177,176,177,178.2,178,175,179,180,175,178.9,176.2,177,172.5,178,176.5]'"
      ]
     },
     "execution_count": 26,
     "metadata": {},
     "output_type": "execute_result"
    }
   ],
   "source": [
    "'''Q3. Measure the three measures of central tendency for the given height data:\n",
    "[178,177,176,177,178.2,178,175,179,180,175,178.9,176.2,177,172.5,178,176.5]'''"
   ]
  },
  {
   "cell_type": "code",
   "execution_count": 30,
   "id": "7d567f69-247a-48c7-bdc7-b76cd66dee0e",
   "metadata": {},
   "outputs": [
    {
     "name": "stderr",
     "output_type": "stream",
     "text": [
      "/tmp/ipykernel_70/68257515.py:6: FutureWarning: Unlike other reduction functions (e.g. `skew`, `kurtosis`), the default behavior of `mode` typically preserves the axis it acts along. In SciPy 1.11.0, this behavior will change: the default value of `keepdims` will become False, the `axis` over which the statistic is taken will be eliminated, and the value None will no longer be accepted. Set `keepdims` to True or False to avoid this warning.\n",
      "  stats.mode(data)\n"
     ]
    },
    {
     "data": {
      "text/plain": [
       "ModeResult(mode=array([177.]), count=array([3]))"
      ]
     },
     "execution_count": 30,
     "metadata": {},
     "output_type": "execute_result"
    }
   ],
   "source": [
    "data = [178,177,176,177,178.2,178,175,179,180,175,178.9,176.2,177,172.5,178,176.5]\n",
    "import numpy as np\n",
    "from scipy import stats\n",
    "np.mean(data)\n",
    "np.median(data)\n",
    "stats.mode(data)"
   ]
  },
  {
   "cell_type": "code",
   "execution_count": 31,
   "id": "8ec32c09-9645-450c-bdce-44d75348d515",
   "metadata": {},
   "outputs": [
    {
     "data": {
      "text/plain": [
       "'Q4. Find the standard deviation for the given data:\\n[178,177,176,177,178.2,178,175,179,180,175,178.9,176.2,177,172.5,178,176.5]'"
      ]
     },
     "execution_count": 31,
     "metadata": {},
     "output_type": "execute_result"
    }
   ],
   "source": [
    "'''Q4. Find the standard deviation for the given data:\n",
    "[178,177,176,177,178.2,178,175,179,180,175,178.9,176.2,177,172.5,178,176.5]'''\n"
   ]
  },
  {
   "cell_type": "code",
   "execution_count": 33,
   "id": "ae8d57ed-6d07-481b-b894-ded1cc4dfd2c",
   "metadata": {},
   "outputs": [
    {
     "data": {
      "text/plain": [
       "1.7885814036548633"
      ]
     },
     "execution_count": 33,
     "metadata": {},
     "output_type": "execute_result"
    }
   ],
   "source": [
    "data = [178,177,176,177,178.2,178,175,179,180,175,178.9,176.2,177,172.5,178,176.5]\n",
    "np.std(data)"
   ]
  },
  {
   "cell_type": "code",
   "execution_count": 34,
   "id": "64fe665a-b45d-4bae-8e6f-190047800c7f",
   "metadata": {},
   "outputs": [
    {
     "data": {
      "text/plain": [
       "'Q5. How are measures of dispersion such as range, variance, and standard deviation used to describe\\nthe spread of a dataset? Provide an example.'"
      ]
     },
     "execution_count": 34,
     "metadata": {},
     "output_type": "execute_result"
    }
   ],
   "source": [
    "'''Q5. How are measures of dispersion such as range, variance, and standard deviation used to describe\n",
    "the spread of a dataset? Provide an example.'''"
   ]
  },
  {
   "cell_type": "code",
   "execution_count": 35,
   "id": "5b59045c-7b2a-487b-be74-48cbadae27cb",
   "metadata": {},
   "outputs": [
    {
     "data": {
      "text/plain": [
       "'Measures of dispersion, such as range, variance, and standard deviation, are used to describe the spread of a dataset by quantifying how much the data points deviate from the central tendency or mean.\\n\\nThe range is the simplest measure of dispersion, and it simply shows the difference between the highest and lowest values in the dataset. However, it does not consider all of the data points, and it can be influenced by outliers.'"
      ]
     },
     "execution_count": 35,
     "metadata": {},
     "output_type": "execute_result"
    }
   ],
   "source": [
    "'''Measures of dispersion, such as range, variance, and standard deviation, are used to describe the spread of a dataset by quantifying how much the data points deviate from the central tendency or mean.\n",
    "\n",
    "The range is the simplest measure of dispersion, and it simply shows the difference between the highest and lowest values in the dataset. However, it does not consider all of the data points, and it can be influenced by outliers.'''"
   ]
  },
  {
   "cell_type": "code",
   "execution_count": 36,
   "id": "25b992ef-a7ea-4c31-8178-950435d7c764",
   "metadata": {},
   "outputs": [
    {
     "data": {
      "text/plain": [
       "'Q6. What is a Venn diagram?'"
      ]
     },
     "execution_count": 36,
     "metadata": {},
     "output_type": "execute_result"
    }
   ],
   "source": [
    "'''Q6. What is a Venn diagram?'''"
   ]
  },
  {
   "cell_type": "code",
   "execution_count": 37,
   "id": "454e1a28-dcad-4b6e-af1f-73cceae329e9",
   "metadata": {},
   "outputs": [
    {
     "data": {
      "text/plain": [
       "'A Venn diagram is a representation of how groups relate to one another, with groups called \"sets.\" Venn diagrams usually consist of two to three circles—or other shapes—that overlap, but there can be more shapes in a diagram based on the number of sets. Each shape represents a set of numbers, objects or concepts.'"
      ]
     },
     "execution_count": 37,
     "metadata": {},
     "output_type": "execute_result"
    }
   ],
   "source": [
    "'''A Venn diagram is a representation of how groups relate to one another, with groups called \"sets.\" Venn diagrams usually consist of two to three circles—or other shapes—that overlap, but there can be more shapes in a diagram based on the number of sets. Each shape represents a set of numbers, objects or concepts.'''"
   ]
  },
  {
   "cell_type": "code",
   "execution_count": 38,
   "id": "c4ed0a76-1e61-428a-a9fa-cb20eef1d265",
   "metadata": {},
   "outputs": [
    {
     "data": {
      "text/plain": [
       "'Q7. For the two given sets A = (2,3,4,5,6,7) & B = (0,2,6,8,10). Find:\\n(i) A B\\n(ii) A ⋃ B'"
      ]
     },
     "execution_count": 38,
     "metadata": {},
     "output_type": "execute_result"
    }
   ],
   "source": [
    "'''Q7. For the two given sets A = (2,3,4,5,6,7) & B = (0,2,6,8,10). Find:\n",
    "(i) A B\n",
    "(ii) A ⋃ B'''"
   ]
  },
  {
   "cell_type": "code",
   "execution_count": 39,
   "id": "474ac13b-75b4-44a1-b175-ce93404d1472",
   "metadata": {},
   "outputs": [
    {
     "data": {
      "text/plain": [
       "'A =  (2,3,4,5,6,7) B = (0,2,6,8,10)\\nAUB = (0,2,3,4,5,6,7,8,10)\\n(A intersection B) = (2,6)'"
      ]
     },
     "execution_count": 39,
     "metadata": {},
     "output_type": "execute_result"
    }
   ],
   "source": [
    "'''A =  (2,3,4,5,6,7) B = (0,2,6,8,10)\n",
    "AUB = (0,2,3,4,5,6,7,8,10)\n",
    "(A intersection B) = (2,6)'''"
   ]
  },
  {
   "cell_type": "code",
   "execution_count": 41,
   "id": "403dcd2a-0afd-475c-acde-35abba22c07e",
   "metadata": {},
   "outputs": [
    {
     "data": {
      "text/plain": [
       "'Q8. What do you understand about skewness in data?'"
      ]
     },
     "execution_count": 41,
     "metadata": {},
     "output_type": "execute_result"
    }
   ],
   "source": [
    "'''Q8. What do you understand about skewness in data?'''"
   ]
  },
  {
   "cell_type": "code",
   "execution_count": 40,
   "id": "08dad744-5c90-4666-8b12-1cbd1cea57f6",
   "metadata": {},
   "outputs": [
    {
     "data": {
      "text/plain": [
       "'Skewness is a statistical measure that describes the asymmetry of a distribution of data around its mean or median. It is a measure of the deviation of a dataset from a normal distribution.'"
      ]
     },
     "execution_count": 40,
     "metadata": {},
     "output_type": "execute_result"
    }
   ],
   "source": [
    "'''Skewness is a statistical measure that describes the asymmetry of a distribution of data around its mean or median. It is a measure of the deviation of a dataset from a normal distribution.'''"
   ]
  },
  {
   "cell_type": "code",
   "execution_count": 42,
   "id": "5569d607-3590-4f3c-bb92-566f432e9e65",
   "metadata": {},
   "outputs": [
    {
     "data": {
      "text/plain": [
       "'Q9. If a data is right skewed then what will be the position of median with respect to mean?'"
      ]
     },
     "execution_count": 42,
     "metadata": {},
     "output_type": "execute_result"
    }
   ],
   "source": [
    "'''Q9. If a data is right skewed then what will be the position of median with respect to mean?'''"
   ]
  },
  {
   "cell_type": "code",
   "execution_count": 1,
   "id": "e009d751-c38b-4e77-9de7-2e0f09e562e8",
   "metadata": {},
   "outputs": [
    {
     "data": {
      "text/plain": [
       "'If a data set is right-skewed, then the tail of the distribution will be on the right side of the distribution. The mean is sensitive to extreme values or outliers in the data and will be pulled towards the tail of the distribution. As a result, the mean will be greater than the median.'"
      ]
     },
     "execution_count": 1,
     "metadata": {},
     "output_type": "execute_result"
    }
   ],
   "source": [
    "'''If a data set is right-skewed, then the tail of the distribution will be on the right side of the distribution. The mean is sensitive to extreme values or outliers in the data and will be pulled towards the tail of the distribution. As a result, the mean will be greater than the median.'''"
   ]
  },
  {
   "cell_type": "code",
   "execution_count": 2,
   "id": "369c97a3-c81f-4cb2-8b72-7b84287277c2",
   "metadata": {},
   "outputs": [
    {
     "data": {
      "text/plain": [
       "'Q10. Explain the difference between covariance and correlation. How are these measures used in\\nstatistical analysis?'"
      ]
     },
     "execution_count": 2,
     "metadata": {},
     "output_type": "execute_result"
    }
   ],
   "source": [
    "'''Q10. Explain the difference between covariance and correlation. How are these measures used in\n",
    "statistical analysis?'''"
   ]
  },
  {
   "cell_type": "code",
   "execution_count": 4,
   "id": "b67d411d-f2ab-4493-948d-f82bbc3cd5a1",
   "metadata": {},
   "outputs": [
    {
     "data": {
      "text/plain": [
       "'Covariance and correlation are both measures of the relationship between two variables, but they differ in their scale and interpretation.\\nCovariance measures the direction and strength of the linear relationship between two variables.\\nCorrelation, on the other hand, measures the strength and direction of the linear relationship between two variables, \\nBoth covariance and correlation are used in statistical analysis to identify the strength and direction of the relationship between two variables.'"
      ]
     },
     "execution_count": 4,
     "metadata": {},
     "output_type": "execute_result"
    }
   ],
   "source": [
    "'''Covariance and correlation are both measures of the relationship between two variables, but they differ in their scale and interpretation.\n",
    "Covariance measures the direction and strength of the linear relationship between two variables.\n",
    "Correlation, on the other hand, measures the strength and direction of the linear relationship between two variables, \n",
    "Both covariance and correlation are used in statistical analysis to identify the strength and direction of the relationship between two variables.''' "
   ]
  },
  {
   "cell_type": "code",
   "execution_count": 5,
   "id": "c05532cb-c801-42f8-b44a-c9a5a19e90f3",
   "metadata": {},
   "outputs": [
    {
     "data": {
      "text/plain": [
       "'Q11. What is the formula for calculating the sample mean? Provide an example calculation for a\\ndataset.'"
      ]
     },
     "execution_count": 5,
     "metadata": {},
     "output_type": "execute_result"
    }
   ],
   "source": [
    "'''Q11. What is the formula for calculating the sample mean? Provide an example calculation for a\n",
    "dataset.'''"
   ]
  },
  {
   "cell_type": "code",
   "execution_count": 8,
   "id": "6e253289-b22e-4a6f-b08c-6f6a2d219949",
   "metadata": {},
   "outputs": [
    {
     "data": {
      "text/plain": [
       "19.78594262295082"
      ]
     },
     "execution_count": 8,
     "metadata": {},
     "output_type": "execute_result"
    }
   ],
   "source": [
    "#sample mean = xi/n\n",
    "import numpy as np\n",
    "import seaborn as sns\n",
    "df=sns.load_dataset('tips')\n",
    "df.head()\n",
    "np.mean(df['total_bill'])\n"
   ]
  },
  {
   "cell_type": "code",
   "execution_count": 9,
   "id": "450f54ae-d41b-42bc-9788-a743c754a164",
   "metadata": {},
   "outputs": [
    {
     "data": {
      "text/plain": [
       "'Q12. For a normal distribution data what is the relationship between its measure of central tendency?'"
      ]
     },
     "execution_count": 9,
     "metadata": {},
     "output_type": "execute_result"
    }
   ],
   "source": [
    "'''Q12. For a normal distribution data what is the relationship between its measure of central tendency?'''"
   ]
  },
  {
   "cell_type": "code",
   "execution_count": 10,
   "id": "970218ae-91dd-437c-90b7-20dd3e64730f",
   "metadata": {},
   "outputs": [
    {
     "data": {
      "text/plain": [
       "'For a normal distribution, the three measures of central tendency, namely the mean, median, and mode, are all equal.\\nIn a normal distribution, the mean, median, and mode all occur at the center of the distribution, and they are all equal. This relationship holds for any normal distribution, regardless of its mean or standard deviation.'"
      ]
     },
     "execution_count": 10,
     "metadata": {},
     "output_type": "execute_result"
    }
   ],
   "source": [
    "'''For a normal distribution, the three measures of central tendency, namely the mean, median, and mode, are all equal.\n",
    "In a normal distribution, the mean, median, and mode all occur at the center of the distribution, and they are all equal. This relationship holds for any normal distribution, regardless of its mean or standard deviation.'''"
   ]
  },
  {
   "cell_type": "code",
   "execution_count": 11,
   "id": "d5b10990-9b39-4524-996d-2f1fce87761f",
   "metadata": {},
   "outputs": [],
   "source": [
    "#Q13. How is covariance different from correlation?"
   ]
  },
  {
   "cell_type": "code",
   "execution_count": 12,
   "id": "d56cac3c-5b83-4b7d-97d7-02a0e0890d79",
   "metadata": {},
   "outputs": [
    {
     "data": {
      "text/plain": [
       "'Covariance and correlation are both measures of the relationship between two variables, but they differ in their scale and interpretation.'"
      ]
     },
     "execution_count": 12,
     "metadata": {},
     "output_type": "execute_result"
    }
   ],
   "source": [
    "'''Covariance and correlation are both measures of the relationship between two variables, but they differ in their scale and interpretation.'''"
   ]
  },
  {
   "cell_type": "code",
   "execution_count": null,
   "id": "ac149a61-e146-460a-88db-0b32e8942a46",
   "metadata": {},
   "outputs": [],
   "source": []
  }
 ],
 "metadata": {
  "kernelspec": {
   "display_name": "Python 3 (ipykernel)",
   "language": "python",
   "name": "python3"
  },
  "language_info": {
   "codemirror_mode": {
    "name": "ipython",
    "version": 3
   },
   "file_extension": ".py",
   "mimetype": "text/x-python",
   "name": "python",
   "nbconvert_exporter": "python",
   "pygments_lexer": "ipython3",
   "version": "3.10.8"
  }
 },
 "nbformat": 4,
 "nbformat_minor": 5
}
